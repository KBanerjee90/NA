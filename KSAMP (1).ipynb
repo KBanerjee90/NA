{
 "cells": [
  {
   "cell_type": "code",
   "execution_count": 3,
   "metadata": {
    "collapsed": false
   },
   "outputs": [
   ],
   "source": [
    "import pandas as pd\n",
    "import numpy as np\n",
    "import matplotlib.pyplot as plt\n",
    "import seaborn as sns\n",
    "\n",
    "import scipy.stats as stats\n",
    "from sklearn.cluster import KMeans\n",
    "\n",
    "from sklearn.preprocessing import StandardScaler"
   ]
  },
  {
   "cell_type": "code",
   "execution_count": 4,
   "metadata": {
    "collapsed": false
   },
   "outputs": [
   ],
   "source": [
    "cricket = pd.read_csv('Cricket.csv',sep = ',',encoding = \"ISO-8859-1\",header=0)"
   ]
  },
  {
   "cell_type": "code",
   "execution_count": 5,
   "metadata": {
    "collapsed": false
   },
   "outputs": [
    {
     "name": "stdout",
     "output_type": "stream",
     "text": [
      "<class 'pandas.core.frame.DataFrame'>\n",
      "RangeIndex: 79 entries, 0 to 78\n",
      "Data columns (total 13 columns):\n",
      "Player    79 non-null object\n",
      "Span      79 non-null int64\n",
      "Mat       79 non-null int64\n",
      "Inns      79 non-null int64\n",
      "NO        79 non-null int64\n",
      "Runs      79 non-null int64\n",
      "HS        79 non-null int64\n",
      "Ave       79 non-null float64\n",
      "BF        79 non-null int64\n",
      "SR        79 non-null float64\n",
      "100       79 non-null int64\n",
      "50        79 non-null int64\n",
      "0         79 non-null int64\n",
      "dtypes: float64(2), int64(10), object(1)\n",
      "memory usage: 8.1+ KB\n"
     ]
    }
   ],
   "source": [
    "cricket.info()"
   ]
  },
  {
   "cell_type": "code",
   "execution_count": 6,
   "metadata": {
    "collapsed": false
   },
   "outputs": [
   ],
   "source": [
    "RFM_norm1 = cricket[['SR','Ave']]"
   ]
  },
  {
   "cell_type": "code",
   "execution_count": 7,
   "metadata": {
    "collapsed": false
   },
   "outputs": [
    {
     "data": {
      "text/html": [
       "<div>\n",
       "<style scoped>\n",
       "    .dataframe tbody tr th:only-of-type {\n",
       "        vertical-align: middle;\n",
       "    }\n",
       "\n",
       "    .dataframe tbody tr th {\n",
       "        vertical-align: top;\n",
       "    }\n",
       "\n",
       "    .dataframe thead th {\n",
       "        text-align: right;\n",
       "    }\n",
       "</style>\n",
       "<table border=\"1\" class=\"dataframe\">\n",
       "  <thead>\n",
       "    <tr style=\"text-align: right;\">\n",
       "      <th></th>\n",
       "      <th>SR</th>\n",
       "      <th>Ave</th>\n",
       "    </tr>\n",
       "  </thead>\n",
       "  <tbody>\n",
       "    <tr>\n",
       "      <th>0</th>\n",
       "      <td>86.23</td>\n",
       "      <td>44.83</td>\n",
       "    </tr>\n",
       "    <tr>\n",
       "      <th>1</th>\n",
       "      <td>78.86</td>\n",
       "      <td>41.98</td>\n",
       "    </tr>\n",
       "    <tr>\n",
       "      <th>2</th>\n",
       "      <td>80.39</td>\n",
       "      <td>42.03</td>\n",
       "    </tr>\n",
       "    <tr>\n",
       "      <th>3</th>\n",
       "      <td>91.20</td>\n",
       "      <td>32.36</td>\n",
       "    </tr>\n",
       "    <tr>\n",
       "      <th>4</th>\n",
       "      <td>78.96</td>\n",
       "      <td>33.37</td>\n",
       "    </tr>\n",
       "  </tbody>\n",
       "</table>\n",
       "</div>"
      ]
     },
     "execution_count": 7,
     "metadata": {
     },
     "output_type": "execute_result"
    }
   ],
   "source": [
    "RFM_norm1.head()"
   ]
  },
  {
   "cell_type": "code",
   "execution_count": 8,
   "metadata": {
    "collapsed": false
   },
   "outputs": [
    {
     "data": {
      "text/plain": [
       "array([[ 0.70315153,  1.07229395],\n",
       "       [-0.0441395 ,  0.58772461],\n",
       "       [ 0.1109969 ,  0.59622582],\n",
       "       [ 1.20709133, -1.04790945],\n",
       "       [-0.03399986, -0.87618487],\n",
       "       [-0.51259058,  0.16946476],\n",
       "       [-0.64947564,  0.99238251],\n",
       "       [-0.56734461,  0.42450125],\n",
       "       [-0.8167796 ,  0.108256  ],\n",
       "       [ 0.02176813,  0.33268811],\n",
       "       [ 0.70315153,  0.12695867],\n",
       "       [-0.42538973,  0.54181804],\n",
       "       [ 1.78910632, -0.44772356],\n",
       "       [ 0.95258652,  2.17575185],\n",
       "       [-0.53489778, -0.2725985 ],\n",
       "       [ 2.1247282 ,  2.5549061 ],\n",
       "       [ 0.1860302 , -0.61604765],\n",
       "       [ 0.58958763, -0.20288853],\n",
       "       [ 0.13938788,  0.11675721],\n",
       "       [-0.86747777,  0.52311536],\n",
       "       [ 0.84916225, -0.3355075 ],\n",
       "       [-1.64315977,  0.48400977],\n",
       "       [-1.17369472, -0.16208269],\n",
       "       [-0.24287632,  0.14056062],\n",
       "       [ 2.53842527, -0.590544  ],\n",
       "       [ 1.1857981 ,  2.62121559],\n",
       "       [ 0.4020044 , -0.40691772],\n",
       "       [ 3.82311689, -2.5424233 ],\n",
       "       [-0.79143052, -1.04110847],\n",
       "       [-0.03197193,  1.02978787],\n",
       "       [-0.3432587 , -0.95609631],\n",
       "       [-0.14147998, -0.45622478],\n",
       "       [-1.24568612,  0.5401178 ],\n",
       "       [-0.40612443, -1.2383367 ],\n",
       "       [ 0.9890892 ,  1.99382582],\n",
       "       [-0.29256053, -0.95949679],\n",
       "       [-0.67482473, -0.61264716],\n",
       "       [ 0.15358337, -0.09237271],\n",
       "       [-0.52070229,  2.56000683],\n",
       "       [-0.73566253,  0.41259955],\n",
       "       [-0.47710186, -0.54123694],\n",
       "       [ 0.24585404, -0.55993962],\n",
       "       [ 1.10569499,  1.44124674],\n",
       "       [-1.1878902 , -0.85068122],\n",
       "       [ 0.10187123, -1.05301018],\n",
       "       [-0.79852826, -1.34375178],\n",
       "       [ 0.2772869 ,  0.95157667],\n",
       "       [-1.57725215, -0.8693839 ],\n",
       "       [-0.43248747, -0.71806225],\n",
       "       [-0.03399986,  0.89716889],\n",
       "       [ 1.73131041, -1.37945689],\n",
       "       [-0.68293643,  1.0348886 ],\n",
       "       [-1.43631123, -0.25219558],\n",
       "       [ 0.16270904, -0.58034254],\n",
       "       [-0.37671949, -0.93739363],\n",
       "       [-1.62085257, -1.09381601],\n",
       "       [-0.36049607,  0.7050414 ],\n",
       "       [ 0.94548878,  0.03514554],\n",
       "       [-0.27025333, -0.54123694],\n",
       "       [ 1.13003011,  0.34288957],\n",
       "       [-0.09990748, -0.7044603 ],\n",
       "       [ 1.46666596, -0.52083402],\n",
       "       [-0.28647675,  0.01984335],\n",
       "       [ 0.85524603,  0.81215672],\n",
       "       [ 0.79745012,  1.63677472],\n",
       "       [ 0.53381964,  0.66933629],\n",
       "       [-0.21651327, -0.11107539],\n",
       "       [-0.96279033, -0.17908512],\n",
       "       [-0.15871736,  0.3870959 ],\n",
       "       [-0.48926942, -0.62964959],\n",
       "       [ 0.60378311,  0.19666865],\n",
       "       [-1.32984508, -1.3641547 ],\n",
       "       [-0.3097979 , -0.71806225],\n",
       "       [-1.89867854, -1.53587927],\n",
       "       [-1.45760447,  1.10629881],\n",
       "       [-0.56227479,  0.82915916],\n",
       "       [-0.23476461, -0.53783646],\n",
       "       [ 1.33282279,  0.20857035],\n",
       "       [ 0.19819776, -1.50017416]])"
      ]
     },
     "execution_count": 8,
     "metadata": {
     },
     "output_type": "execute_result"
    }
   ],
   "source": [
    "# standardise all parameters\n",
    "#RFM_norm1 = cricket['SR','Ave']\n",
    "\n",
    "standard_scaler = StandardScaler()\n",
    "standard_scaler.fit_transform(RFM_norm1)"
   ]
  },
  {
   "cell_type": "code",
   "execution_count": 0,
   "metadata": {
    "collapsed": false
   },
   "outputs": [
   ],
   "source": [
   ]
  },
  {
   "cell_type": "code",
   "execution_count": 9,
   "metadata": {
    "collapsed": false
   },
   "outputs": [
    {
     "data": {
      "text/plain": [
       "KMeans(algorithm='auto', copy_x=True, init='k-means++', max_iter=300,\n",
       "    n_clusters=4, n_init=10, n_jobs=1, precompute_distances='auto',\n",
       "    random_state=100, tol=0.0001, verbose=0)"
      ]
     },
     "execution_count": 9,
     "metadata": {
     },
     "output_type": "execute_result"
    }
   ],
   "source": [
    "# Kmeans with K=5\n",
    "model_clus4 = KMeans(n_clusters = 4, random_state=100)\n",
    "model_clus4.fit(RFM_norm1)"
   ]
  },
  {
   "cell_type": "code",
   "execution_count": 10,
   "metadata": {
    "collapsed": false
   },
   "outputs": [
    {
     "data": {
      "text/plain": [
       "array([2, 1, 1, 3, 1, 1, 0, 0, 0, 1, 2, 1, 3, 2, 1, 2, 1, 1, 1, 0, 2, 0,\n",
       "       0, 1, 3, 2, 1, 3, 0, 1, 1, 1, 0, 1, 2, 1, 0, 1, 0, 0, 1, 1, 2, 0,\n",
       "       1, 0, 2, 0, 1, 1, 3, 0, 0, 1, 1, 0, 1, 2, 1, 2, 1, 3, 1, 2, 2, 2,\n",
       "       1, 0, 1, 1, 2, 0, 1, 0, 0, 0, 1, 2, 1], dtype=int32)"
      ]
     },
     "execution_count": 10,
     "metadata": {
     },
     "output_type": "execute_result"
    }
   ],
   "source": [
    "model_clus4.labels_"
   ]
  },
  {
   "cell_type": "code",
   "execution_count": 11,
   "metadata": {
    "collapsed": false
   },
   "outputs": [
   ],
   "source": [
    "RFM_km = pd.concat([cricket.Player, RFM_norm1, pd.Series(model_clus4.labels_)], axis=1)"
   ]
  },
  {
   "cell_type": "code",
   "execution_count": 12,
   "metadata": {
    "collapsed": false
   },
   "outputs": [
    {
     "data": {
      "text/html": [
       "<div>\n",
       "<style scoped>\n",
       "    .dataframe tbody tr th:only-of-type {\n",
       "        vertical-align: middle;\n",
       "    }\n",
       "\n",
       "    .dataframe tbody tr th {\n",
       "        vertical-align: top;\n",
       "    }\n",
       "\n",
       "    .dataframe thead th {\n",
       "        text-align: right;\n",
       "    }\n",
       "</style>\n",
       "<table border=\"1\" class=\"dataframe\">\n",
       "  <thead>\n",
       "    <tr style=\"text-align: right;\">\n",
       "      <th></th>\n",
       "      <th>Player</th>\n",
       "      <th>SR</th>\n",
       "      <th>Ave</th>\n",
       "      <th>0</th>\n",
       "    </tr>\n",
       "  </thead>\n",
       "  <tbody>\n",
       "    <tr>\n",
       "      <th>0</th>\n",
       "      <td>SR Tendulkar (INDIA)</td>\n",
       "      <td>86.23</td>\n",
       "      <td>44.83</td>\n",
       "      <td>2</td>\n",
       "    </tr>\n",
       "    <tr>\n",
       "      <th>1</th>\n",
       "      <td>KC Sangakkara (Asia/ICC/SL)</td>\n",
       "      <td>78.86</td>\n",
       "      <td>41.98</td>\n",
       "      <td>1</td>\n",
       "    </tr>\n",
       "    <tr>\n",
       "      <th>2</th>\n",
       "      <td>RT Ponting (AUS/ICC)</td>\n",
       "      <td>80.39</td>\n",
       "      <td>42.03</td>\n",
       "      <td>1</td>\n",
       "    </tr>\n",
       "    <tr>\n",
       "      <th>3</th>\n",
       "      <td>ST Jayasuriya (Asia/SL)</td>\n",
       "      <td>91.20</td>\n",
       "      <td>32.36</td>\n",
       "      <td>3</td>\n",
       "    </tr>\n",
       "    <tr>\n",
       "      <th>4</th>\n",
       "      <td>DPMD Jayawardene (Asia/SL)</td>\n",
       "      <td>78.96</td>\n",
       "      <td>33.37</td>\n",
       "      <td>1</td>\n",
       "    </tr>\n",
       "  </tbody>\n",
       "</table>\n",
       "</div>"
      ]
     },
     "execution_count": 12,
     "metadata": {
     },
     "output_type": "execute_result"
    }
   ],
   "source": [
    "RFM_km.head()"
   ]
  },
  {
   "cell_type": "code",
   "execution_count": 13,
   "metadata": {
    "collapsed": false
   },
   "outputs": [
   ],
   "source": [
    "RFM_km.columns = ['Player', 'SrikeRate','Avg', 'ClusterID']"
   ]
  },
  {
   "cell_type": "code",
   "execution_count": 14,
   "metadata": {
    "collapsed": false
   },
   "outputs": [
   ],
   "source": [
    "RFM_km.to_csv('myCluster1.csv')"
   ]
  },
  {
   "cell_type": "code",
   "execution_count": 15,
   "metadata": {
    "collapsed": false
   },
   "outputs": [
    {
     "data": {
      "text/html": [
       "<div>\n",
       "<style scoped>\n",
       "    .dataframe tbody tr th:only-of-type {\n",
       "        vertical-align: middle;\n",
       "    }\n",
       "\n",
       "    .dataframe tbody tr th {\n",
       "        vertical-align: top;\n",
       "    }\n",
       "\n",
       "    .dataframe thead th {\n",
       "        text-align: right;\n",
       "    }\n",
       "</style>\n",
       "<table border=\"1\" class=\"dataframe\">\n",
       "  <thead>\n",
       "    <tr style=\"text-align: right;\">\n",
       "      <th></th>\n",
       "      <th>Player</th>\n",
       "      <th>SrikeRate</th>\n",
       "      <th>Avg</th>\n",
       "      <th>ClusterID</th>\n",
       "    </tr>\n",
       "  </thead>\n",
       "  <tbody>\n",
       "    <tr>\n",
       "      <th>6</th>\n",
       "      <td>JH Kallis (Afr/ICC/SA)</td>\n",
       "      <td>72.89</td>\n",
       "      <td>44.36</td>\n",
       "      <td>0</td>\n",
       "    </tr>\n",
       "    <tr>\n",
       "      <th>7</th>\n",
       "      <td>SC Ganguly (Asia/INDIA)</td>\n",
       "      <td>73.70</td>\n",
       "      <td>41.02</td>\n",
       "      <td>0</td>\n",
       "    </tr>\n",
       "    <tr>\n",
       "      <th>8</th>\n",
       "      <td>R Dravid (Asia/ICC/INDIA)</td>\n",
       "      <td>71.24</td>\n",
       "      <td>39.16</td>\n",
       "      <td>0</td>\n",
       "    </tr>\n",
       "    <tr>\n",
       "      <th>19</th>\n",
       "      <td>S Chanderpaul (WI)</td>\n",
       "      <td>70.74</td>\n",
       "      <td>41.60</td>\n",
       "      <td>0</td>\n",
       "    </tr>\n",
       "    <tr>\n",
       "      <th>21</th>\n",
       "      <td>DL Haynes (WI)</td>\n",
       "      <td>63.09</td>\n",
       "      <td>41.37</td>\n",
       "      <td>0</td>\n",
       "    </tr>\n",
       "    <tr>\n",
       "      <th>22</th>\n",
       "      <td>MS Atapattu (SL)</td>\n",
       "      <td>67.72</td>\n",
       "      <td>37.57</td>\n",
       "      <td>0</td>\n",
       "    </tr>\n",
       "    <tr>\n",
       "      <th>28</th>\n",
       "      <td>SP Fleming (ICC/NZ)</td>\n",
       "      <td>71.49</td>\n",
       "      <td>32.40</td>\n",
       "      <td>0</td>\n",
       "    </tr>\n",
       "    <tr>\n",
       "      <th>32</th>\n",
       "      <td>Javed Miandad (PAK)</td>\n",
       "      <td>67.01</td>\n",
       "      <td>41.70</td>\n",
       "      <td>0</td>\n",
       "    </tr>\n",
       "    <tr>\n",
       "      <th>36</th>\n",
       "      <td>NJ Astle (NZ)</td>\n",
       "      <td>72.64</td>\n",
       "      <td>34.92</td>\n",
       "      <td>0</td>\n",
       "    </tr>\n",
       "    <tr>\n",
       "      <th>38</th>\n",
       "      <td>MG Bevan (AUS)</td>\n",
       "      <td>74.16</td>\n",
       "      <td>53.58</td>\n",
       "      <td>0</td>\n",
       "    </tr>\n",
       "    <tr>\n",
       "      <th>39</th>\n",
       "      <td>G Kirsten (SA)</td>\n",
       "      <td>72.04</td>\n",
       "      <td>40.95</td>\n",
       "      <td>0</td>\n",
       "    </tr>\n",
       "    <tr>\n",
       "      <th>43</th>\n",
       "      <td>GW Flower (ZIM)</td>\n",
       "      <td>67.58</td>\n",
       "      <td>33.52</td>\n",
       "      <td>0</td>\n",
       "    </tr>\n",
       "    <tr>\n",
       "      <th>45</th>\n",
       "      <td>AR Border (AUS)</td>\n",
       "      <td>71.42</td>\n",
       "      <td>30.62</td>\n",
       "      <td>0</td>\n",
       "    </tr>\n",
       "    <tr>\n",
       "      <th>47</th>\n",
       "      <td>RB Richardson (WI)</td>\n",
       "      <td>63.74</td>\n",
       "      <td>33.41</td>\n",
       "      <td>0</td>\n",
       "    </tr>\n",
       "    <tr>\n",
       "      <th>51</th>\n",
       "      <td>DM Jones (AUS)</td>\n",
       "      <td>72.56</td>\n",
       "      <td>44.61</td>\n",
       "      <td>0</td>\n",
       "    </tr>\n",
       "    <tr>\n",
       "      <th>52</th>\n",
       "      <td>DC Boon (AUS)</td>\n",
       "      <td>65.13</td>\n",
       "      <td>37.04</td>\n",
       "      <td>0</td>\n",
       "    </tr>\n",
       "    <tr>\n",
       "      <th>55</th>\n",
       "      <td>Rameez Raja (PAK)</td>\n",
       "      <td>63.31</td>\n",
       "      <td>32.09</td>\n",
       "      <td>0</td>\n",
       "    </tr>\n",
       "    <tr>\n",
       "      <th>67</th>\n",
       "      <td>A Jadeja (INDIA)</td>\n",
       "      <td>69.80</td>\n",
       "      <td>37.47</td>\n",
       "      <td>0</td>\n",
       "    </tr>\n",
       "    <tr>\n",
       "      <th>71</th>\n",
       "      <td>ADR Campbell (ZIM)</td>\n",
       "      <td>66.18</td>\n",
       "      <td>30.50</td>\n",
       "      <td>0</td>\n",
       "    </tr>\n",
       "    <tr>\n",
       "      <th>73</th>\n",
       "      <td>RS Mahanama (SL)</td>\n",
       "      <td>60.57</td>\n",
       "      <td>29.49</td>\n",
       "      <td>0</td>\n",
       "    </tr>\n",
       "    <tr>\n",
       "      <th>74</th>\n",
       "      <td>CG Greenidge (WI)</td>\n",
       "      <td>64.92</td>\n",
       "      <td>45.03</td>\n",
       "      <td>0</td>\n",
       "    </tr>\n",
       "    <tr>\n",
       "      <th>75</th>\n",
       "      <td>Misbah-ul-Haq (PAK)</td>\n",
       "      <td>73.75</td>\n",
       "      <td>43.40</td>\n",
       "      <td>0</td>\n",
       "    </tr>\n",
       "  </tbody>\n",
       "</table>\n",
       "</div>"
      ]
     },
     "execution_count": 15,
     "metadata": {
     },
     "output_type": "execute_result"
    }
   ],
   "source": [
    "RFM_km[RFM_km.ClusterID == 0]"
   ]
  },
  {
   "cell_type": "code",
   "execution_count": 16,
   "metadata": {
    "collapsed": false
   },
   "outputs": [
    {
     "data": {
      "text/html": [
       "<div>\n",
       "<style scoped>\n",
       "    .dataframe tbody tr th:only-of-type {\n",
       "        vertical-align: middle;\n",
       "    }\n",
       "\n",
       "    .dataframe tbody tr th {\n",
       "        vertical-align: top;\n",
       "    }\n",
       "\n",
       "    .dataframe thead th {\n",
       "        text-align: right;\n",
       "    }\n",
       "</style>\n",
       "<table border=\"1\" class=\"dataframe\">\n",
       "  <thead>\n",
       "    <tr style=\"text-align: right;\">\n",
       "      <th></th>\n",
       "      <th>Player</th>\n",
       "      <th>SrikeRate</th>\n",
       "      <th>Avg</th>\n",
       "      <th>ClusterID</th>\n",
       "    </tr>\n",
       "  </thead>\n",
       "  <tbody>\n",
       "    <tr>\n",
       "      <th>1</th>\n",
       "      <td>KC Sangakkara (Asia/ICC/SL)</td>\n",
       "      <td>78.86</td>\n",
       "      <td>41.98</td>\n",
       "      <td>1</td>\n",
       "    </tr>\n",
       "    <tr>\n",
       "      <th>2</th>\n",
       "      <td>RT Ponting (AUS/ICC)</td>\n",
       "      <td>80.39</td>\n",
       "      <td>42.03</td>\n",
       "      <td>1</td>\n",
       "    </tr>\n",
       "    <tr>\n",
       "      <th>4</th>\n",
       "      <td>DPMD Jayawardene (Asia/SL)</td>\n",
       "      <td>78.96</td>\n",
       "      <td>33.37</td>\n",
       "      <td>1</td>\n",
       "    </tr>\n",
       "    <tr>\n",
       "      <th>5</th>\n",
       "      <td>Inzamam-ul-Haq (Asia/PAK)</td>\n",
       "      <td>74.24</td>\n",
       "      <td>39.52</td>\n",
       "      <td>1</td>\n",
       "    </tr>\n",
       "    <tr>\n",
       "      <th>9</th>\n",
       "      <td>BC Lara (ICC/WI)</td>\n",
       "      <td>79.51</td>\n",
       "      <td>40.48</td>\n",
       "      <td>1</td>\n",
       "    </tr>\n",
       "    <tr>\n",
       "      <th>11</th>\n",
       "      <td>Mohammad Yousuf (Asia/PAK)</td>\n",
       "      <td>75.10</td>\n",
       "      <td>41.71</td>\n",
       "      <td>1</td>\n",
       "    </tr>\n",
       "    <tr>\n",
       "      <th>14</th>\n",
       "      <td>M Azharuddin (INDIA)</td>\n",
       "      <td>74.02</td>\n",
       "      <td>36.92</td>\n",
       "      <td>1</td>\n",
       "    </tr>\n",
       "    <tr>\n",
       "      <th>16</th>\n",
       "      <td>PA de Silva (SL)</td>\n",
       "      <td>81.13</td>\n",
       "      <td>34.90</td>\n",
       "      <td>1</td>\n",
       "    </tr>\n",
       "    <tr>\n",
       "      <th>17</th>\n",
       "      <td>CH Gayle (ICC/WI)</td>\n",
       "      <td>85.11</td>\n",
       "      <td>37.33</td>\n",
       "      <td>1</td>\n",
       "    </tr>\n",
       "    <tr>\n",
       "      <th>18</th>\n",
       "      <td>Saeed Anwar (PAK)</td>\n",
       "      <td>80.67</td>\n",
       "      <td>39.21</td>\n",
       "      <td>1</td>\n",
       "    </tr>\n",
       "    <tr>\n",
       "      <th>23</th>\n",
       "      <td>ME Waugh (AUS)</td>\n",
       "      <td>76.90</td>\n",
       "      <td>39.35</td>\n",
       "      <td>1</td>\n",
       "    </tr>\n",
       "    <tr>\n",
       "      <th>26</th>\n",
       "      <td>HH Gibbs (SA)</td>\n",
       "      <td>83.26</td>\n",
       "      <td>36.13</td>\n",
       "      <td>1</td>\n",
       "    </tr>\n",
       "    <tr>\n",
       "      <th>29</th>\n",
       "      <td>MJ Clarke (AUS)</td>\n",
       "      <td>78.98</td>\n",
       "      <td>44.58</td>\n",
       "      <td>1</td>\n",
       "    </tr>\n",
       "    <tr>\n",
       "      <th>30</th>\n",
       "      <td>SR Waugh (AUS)</td>\n",
       "      <td>75.91</td>\n",
       "      <td>32.90</td>\n",
       "      <td>1</td>\n",
       "    </tr>\n",
       "    <tr>\n",
       "      <th>31</th>\n",
       "      <td>A Ranatunga (SL)</td>\n",
       "      <td>77.90</td>\n",
       "      <td>35.84</td>\n",
       "      <td>1</td>\n",
       "    </tr>\n",
       "    <tr>\n",
       "      <th>33</th>\n",
       "      <td>Younis Khan (PAK)</td>\n",
       "      <td>75.29</td>\n",
       "      <td>31.24</td>\n",
       "      <td>1</td>\n",
       "    </tr>\n",
       "    <tr>\n",
       "      <th>35</th>\n",
       "      <td>Saleem Malik (PAK)</td>\n",
       "      <td>76.41</td>\n",
       "      <td>32.88</td>\n",
       "      <td>1</td>\n",
       "    </tr>\n",
       "    <tr>\n",
       "      <th>37</th>\n",
       "      <td>GC Smith (Afr/SA)</td>\n",
       "      <td>80.81</td>\n",
       "      <td>37.98</td>\n",
       "      <td>1</td>\n",
       "    </tr>\n",
       "    <tr>\n",
       "      <th>40</th>\n",
       "      <td>A Flower (ZIM)</td>\n",
       "      <td>74.59</td>\n",
       "      <td>35.34</td>\n",
       "      <td>1</td>\n",
       "    </tr>\n",
       "    <tr>\n",
       "      <th>41</th>\n",
       "      <td>Shoaib Malik (PAK)</td>\n",
       "      <td>81.72</td>\n",
       "      <td>35.23</td>\n",
       "      <td>1</td>\n",
       "    </tr>\n",
       "    <tr>\n",
       "      <th>44</th>\n",
       "      <td>Ijaz Ahmed (PAK)</td>\n",
       "      <td>80.30</td>\n",
       "      <td>32.33</td>\n",
       "      <td>1</td>\n",
       "    </tr>\n",
       "    <tr>\n",
       "      <th>48</th>\n",
       "      <td>WU Tharanga (Asia/SL)</td>\n",
       "      <td>75.03</td>\n",
       "      <td>34.30</td>\n",
       "      <td>1</td>\n",
       "    </tr>\n",
       "    <tr>\n",
       "      <th>49</th>\n",
       "      <td>ML Hayden (AUS/ICC)</td>\n",
       "      <td>78.96</td>\n",
       "      <td>43.80</td>\n",
       "      <td>1</td>\n",
       "    </tr>\n",
       "    <tr>\n",
       "      <th>53</th>\n",
       "      <td>JN Rhodes (SA)</td>\n",
       "      <td>80.90</td>\n",
       "      <td>35.11</td>\n",
       "      <td>1</td>\n",
       "    </tr>\n",
       "    <tr>\n",
       "      <th>54</th>\n",
       "      <td>Mohammad Hafeez (PAK)</td>\n",
       "      <td>75.58</td>\n",
       "      <td>33.01</td>\n",
       "      <td>1</td>\n",
       "    </tr>\n",
       "    <tr>\n",
       "      <th>56</th>\n",
       "      <td>RR Sarwan (WI)</td>\n",
       "      <td>75.74</td>\n",
       "      <td>42.67</td>\n",
       "      <td>1</td>\n",
       "    </tr>\n",
       "    <tr>\n",
       "      <th>58</th>\n",
       "      <td>CL Hooper (WI)</td>\n",
       "      <td>76.63</td>\n",
       "      <td>35.34</td>\n",
       "      <td>1</td>\n",
       "    </tr>\n",
       "    <tr>\n",
       "      <th>60</th>\n",
       "      <td>Tamim Iqbal (BDESH)</td>\n",
       "      <td>78.31</td>\n",
       "      <td>34.38</td>\n",
       "      <td>1</td>\n",
       "    </tr>\n",
       "    <tr>\n",
       "      <th>62</th>\n",
       "      <td>WJ Cronje (SA)</td>\n",
       "      <td>76.47</td>\n",
       "      <td>38.64</td>\n",
       "      <td>1</td>\n",
       "    </tr>\n",
       "    <tr>\n",
       "      <th>66</th>\n",
       "      <td>IR Bell (ENG)</td>\n",
       "      <td>77.16</td>\n",
       "      <td>37.87</td>\n",
       "      <td>1</td>\n",
       "    </tr>\n",
       "    <tr>\n",
       "      <th>68</th>\n",
       "      <td>DR Martyn (AUS)</td>\n",
       "      <td>77.73</td>\n",
       "      <td>40.80</td>\n",
       "      <td>1</td>\n",
       "    </tr>\n",
       "    <tr>\n",
       "      <th>69</th>\n",
       "      <td>BRM Taylor (ZIM)</td>\n",
       "      <td>74.47</td>\n",
       "      <td>34.82</td>\n",
       "      <td>1</td>\n",
       "    </tr>\n",
       "    <tr>\n",
       "      <th>72</th>\n",
       "      <td>MN Samuels (WI)</td>\n",
       "      <td>76.24</td>\n",
       "      <td>34.30</td>\n",
       "      <td>1</td>\n",
       "    </tr>\n",
       "    <tr>\n",
       "      <th>76</th>\n",
       "      <td>PD Collingwood (ENG)</td>\n",
       "      <td>76.98</td>\n",
       "      <td>35.36</td>\n",
       "      <td>1</td>\n",
       "    </tr>\n",
       "    <tr>\n",
       "      <th>78</th>\n",
       "      <td>Abdul Razzaq (Asia/PAK)</td>\n",
       "      <td>81.25</td>\n",
       "      <td>29.70</td>\n",
       "      <td>1</td>\n",
       "    </tr>\n",
       "  </tbody>\n",
       "</table>\n",
       "</div>"
      ]
     },
     "execution_count": 16,
     "metadata": {
     },
     "output_type": "execute_result"
    }
   ],
   "source": [
    "RFM_km[RFM_km.ClusterID == 1]"
   ]
  },
  {
   "cell_type": "code",
   "execution_count": 17,
   "metadata": {
    "collapsed": false
   },
   "outputs": [
    {
     "data": {
      "text/html": [
       "<div>\n",
       "<style scoped>\n",
       "    .dataframe tbody tr th:only-of-type {\n",
       "        vertical-align: middle;\n",
       "    }\n",
       "\n",
       "    .dataframe tbody tr th {\n",
       "        vertical-align: top;\n",
       "    }\n",
       "\n",
       "    .dataframe thead th {\n",
       "        text-align: right;\n",
       "    }\n",
       "</style>\n",
       "<table border=\"1\" class=\"dataframe\">\n",
       "  <thead>\n",
       "    <tr style=\"text-align: right;\">\n",
       "      <th></th>\n",
       "      <th>Player</th>\n",
       "      <th>SrikeRate</th>\n",
       "      <th>Avg</th>\n",
       "      <th>ClusterID</th>\n",
       "    </tr>\n",
       "  </thead>\n",
       "  <tbody>\n",
       "    <tr>\n",
       "      <th>0</th>\n",
       "      <td>SR Tendulkar (INDIA)</td>\n",
       "      <td>86.23</td>\n",
       "      <td>44.83</td>\n",
       "      <td>2</td>\n",
       "    </tr>\n",
       "    <tr>\n",
       "      <th>10</th>\n",
       "      <td>TM Dilshan (SL)</td>\n",
       "      <td>86.23</td>\n",
       "      <td>39.27</td>\n",
       "      <td>2</td>\n",
       "    </tr>\n",
       "    <tr>\n",
       "      <th>13</th>\n",
       "      <td>MS Dhoni (Asia/INDIA)</td>\n",
       "      <td>88.69</td>\n",
       "      <td>51.32</td>\n",
       "      <td>2</td>\n",
       "    </tr>\n",
       "    <tr>\n",
       "      <th>15</th>\n",
       "      <td>AB de Villiers (Afr/SA)</td>\n",
       "      <td>100.25</td>\n",
       "      <td>53.55</td>\n",
       "      <td>2</td>\n",
       "    </tr>\n",
       "    <tr>\n",
       "      <th>20</th>\n",
       "      <td>Yuvraj Singh (Asia/INDIA)</td>\n",
       "      <td>87.67</td>\n",
       "      <td>36.55</td>\n",
       "      <td>2</td>\n",
       "    </tr>\n",
       "    <tr>\n",
       "      <th>25</th>\n",
       "      <td>V Kohli (INDIA)</td>\n",
       "      <td>90.99</td>\n",
       "      <td>53.94</td>\n",
       "      <td>2</td>\n",
       "    </tr>\n",
       "    <tr>\n",
       "      <th>34</th>\n",
       "      <td>HM Amla (SA)</td>\n",
       "      <td>89.05</td>\n",
       "      <td>50.25</td>\n",
       "      <td>2</td>\n",
       "    </tr>\n",
       "    <tr>\n",
       "      <th>42</th>\n",
       "      <td>IVA Richards (WI)</td>\n",
       "      <td>90.20</td>\n",
       "      <td>47.00</td>\n",
       "      <td>2</td>\n",
       "    </tr>\n",
       "    <tr>\n",
       "      <th>46</th>\n",
       "      <td>LRPL Taylor (NZ)</td>\n",
       "      <td>82.03</td>\n",
       "      <td>44.12</td>\n",
       "      <td>2</td>\n",
       "    </tr>\n",
       "    <tr>\n",
       "      <th>57</th>\n",
       "      <td>EJG Morgan (ENG/IRE)</td>\n",
       "      <td>88.62</td>\n",
       "      <td>38.73</td>\n",
       "      <td>2</td>\n",
       "    </tr>\n",
       "    <tr>\n",
       "      <th>59</th>\n",
       "      <td>SR Watson (AUS)</td>\n",
       "      <td>90.44</td>\n",
       "      <td>40.54</td>\n",
       "      <td>2</td>\n",
       "    </tr>\n",
       "    <tr>\n",
       "      <th>63</th>\n",
       "      <td>MJ Guptill (NZ)</td>\n",
       "      <td>87.73</td>\n",
       "      <td>43.30</td>\n",
       "      <td>2</td>\n",
       "    </tr>\n",
       "    <tr>\n",
       "      <th>64</th>\n",
       "      <td>MEK Hussey (AUS)</td>\n",
       "      <td>87.16</td>\n",
       "      <td>48.15</td>\n",
       "      <td>2</td>\n",
       "    </tr>\n",
       "    <tr>\n",
       "      <th>65</th>\n",
       "      <td>RG Sharma (INDIA)</td>\n",
       "      <td>84.56</td>\n",
       "      <td>42.46</td>\n",
       "      <td>2</td>\n",
       "    </tr>\n",
       "    <tr>\n",
       "      <th>70</th>\n",
       "      <td>G Gambhir (INDIA)</td>\n",
       "      <td>85.25</td>\n",
       "      <td>39.68</td>\n",
       "      <td>2</td>\n",
       "    </tr>\n",
       "    <tr>\n",
       "      <th>77</th>\n",
       "      <td>A Symonds (AUS)</td>\n",
       "      <td>92.44</td>\n",
       "      <td>39.75</td>\n",
       "      <td>2</td>\n",
       "    </tr>\n",
       "  </tbody>\n",
       "</table>\n",
       "</div>"
      ]
     },
     "execution_count": 17,
     "metadata": {
     },
     "output_type": "execute_result"
    }
   ],
   "source": [
    "RFM_km[RFM_km.ClusterID == 2]"
   ]
  },
  {
   "cell_type": "code",
   "execution_count": 18,
   "metadata": {
    "collapsed": false
   },
   "outputs": [
    {
     "data": {
      "text/html": [
       "<div>\n",
       "<style scoped>\n",
       "    .dataframe tbody tr th:only-of-type {\n",
       "        vertical-align: middle;\n",
       "    }\n",
       "\n",
       "    .dataframe tbody tr th {\n",
       "        vertical-align: top;\n",
       "    }\n",
       "\n",
       "    .dataframe thead th {\n",
       "        text-align: right;\n",
       "    }\n",
       "</style>\n",
       "<table border=\"1\" class=\"dataframe\">\n",
       "  <thead>\n",
       "    <tr style=\"text-align: right;\">\n",
       "      <th></th>\n",
       "      <th>Player</th>\n",
       "      <th>SrikeRate</th>\n",
       "      <th>Avg</th>\n",
       "      <th>ClusterID</th>\n",
       "    </tr>\n",
       "  </thead>\n",
       "  <tbody>\n",
       "    <tr>\n",
       "      <th>3</th>\n",
       "      <td>ST Jayasuriya (Asia/SL)</td>\n",
       "      <td>91.20</td>\n",
       "      <td>32.36</td>\n",
       "      <td>3</td>\n",
       "    </tr>\n",
       "    <tr>\n",
       "      <th>12</th>\n",
       "      <td>AC Gilchrist (AUS/ICC)</td>\n",
       "      <td>96.94</td>\n",
       "      <td>35.89</td>\n",
       "      <td>3</td>\n",
       "    </tr>\n",
       "    <tr>\n",
       "      <th>24</th>\n",
       "      <td>V Sehwag (Asia/ICC/INDIA)</td>\n",
       "      <td>104.33</td>\n",
       "      <td>35.05</td>\n",
       "      <td>3</td>\n",
       "    </tr>\n",
       "    <tr>\n",
       "      <th>27</th>\n",
       "      <td>Shahid Afridi (Asia/ICC/PAK)</td>\n",
       "      <td>117.00</td>\n",
       "      <td>23.57</td>\n",
       "      <td>3</td>\n",
       "    </tr>\n",
       "    <tr>\n",
       "      <th>50</th>\n",
       "      <td>BB McCullum (NZ)</td>\n",
       "      <td>96.37</td>\n",
       "      <td>30.41</td>\n",
       "      <td>3</td>\n",
       "    </tr>\n",
       "    <tr>\n",
       "      <th>61</th>\n",
       "      <td>SK Raina (INDIA)</td>\n",
       "      <td>93.76</td>\n",
       "      <td>35.46</td>\n",
       "      <td>3</td>\n",
       "    </tr>\n",
       "  </tbody>\n",
       "</table>\n",
       "</div>"
      ]
     },
     "execution_count": 18,
     "metadata": {
     },
     "output_type": "execute_result"
    }
   ],
   "source": [
    "RFM_km[RFM_km.ClusterID == 3]"
   ]
  },
  {
   "cell_type": "code",
   "execution_count": 19,
   "metadata": {
    "collapsed": false
   },
   "outputs": [
   ],
   "source": [
    "km_clusters_avg_SR= pd.DataFrame(RFM_km.groupby([\"ClusterID\"]).SrikeRate.mean())\n",
    "km_clusters_AVG = pd.DataFrame(RFM_km.groupby([\"ClusterID\"]).Avg.mean())"
   ]
  },
  {
   "cell_type": "code",
   "execution_count": 20,
   "metadata": {
    "collapsed": false
   },
   "outputs": [
    {
     "data": {
      "text/html": [
       "<div>\n",
       "<style scoped>\n",
       "    .dataframe tbody tr th:only-of-type {\n",
       "        vertical-align: middle;\n",
       "    }\n",
       "\n",
       "    .dataframe tbody tr th {\n",
       "        vertical-align: top;\n",
       "    }\n",
       "\n",
       "    .dataframe thead th {\n",
       "        text-align: right;\n",
       "    }\n",
       "</style>\n",
       "<table border=\"1\" class=\"dataframe\">\n",
       "  <thead>\n",
       "    <tr style=\"text-align: right;\">\n",
       "      <th></th>\n",
       "      <th>ClusterID</th>\n",
       "      <th>SR_mean</th>\n",
       "      <th>AVG_mean</th>\n",
       "    </tr>\n",
       "  </thead>\n",
       "  <tbody>\n",
       "    <tr>\n",
       "      <th>0</th>\n",
       "      <td>0</td>\n",
       "      <td>68.894545</td>\n",
       "      <td>38.445909</td>\n",
       "    </tr>\n",
       "    <tr>\n",
       "      <th>1</th>\n",
       "      <td>1</td>\n",
       "      <td>78.043143</td>\n",
       "      <td>36.895714</td>\n",
       "    </tr>\n",
       "    <tr>\n",
       "      <th>2</th>\n",
       "      <td>2</td>\n",
       "      <td>88.596250</td>\n",
       "      <td>44.590000</td>\n",
       "    </tr>\n",
       "    <tr>\n",
       "      <th>3</th>\n",
       "      <td>3</td>\n",
       "      <td>99.933333</td>\n",
       "      <td>32.123333</td>\n",
       "    </tr>\n",
       "  </tbody>\n",
       "</table>\n",
       "</div>"
      ]
     },
     "execution_count": 20,
     "metadata": {
     },
     "output_type": "execute_result"
    }
   ],
   "source": [
    "df = pd.concat([pd.Series([0,1,2,3]), km_clusters_avg_SR, km_clusters_AVG], axis=1)\n",
    "df.columns = [\"ClusterID\", \"SR_mean\", \"AVG_mean\"]\n",
    "df.head()"
   ]
  },
  {
   "cell_type": "code",
   "execution_count": 21,
   "metadata": {
    "collapsed": false
   },
   "outputs": [
    {
     "data": {
      "text/plain": [
       "<matplotlib.axes._subplots.AxesSubplot at 0x7f25117765f8>"
      ]
     },
     "execution_count": 21,
     "metadata": {
     },
     "output_type": "execute_result"
    },
    {
     "data": {
      "image/png": "[encoded data removed]"
     },
     "execution_count": 21,
     "metadata": {
      "image/png": {
       "height": 263,
       "width": 390
      }
     },
     "output_type": "execute_result"
    }
   ],
   "source": [
    "sns.barplot(x=df.ClusterID, y=df.SR_mean)"
   ]
  },
  {
   "cell_type": "code",
   "execution_count": 22,
   "metadata": {
    "collapsed": false
   },
   "outputs": [
    {
     "data": {
      "text/plain": [
       "<matplotlib.axes._subplots.AxesSubplot at 0x7f250f681780>"
      ]
     },
     "execution_count": 22,
     "metadata": {
     },
     "output_type": "execute_result"
    },
    {
     "data": {
      "image/png": "[encoded data removed]"
     },
     "execution_count": 22,
     "metadata": {
      "image/png": {
       "height": 263,
       "width": 384
      }
     },
     "output_type": "execute_result"
    }
   ],
   "source": [
    "sns.barplot(x=df.ClusterID, y=df.AVG_mean)"
   ]
  },
  {
   "cell_type": "code",
   "execution_count": 1,
   "metadata": {
    "collapsed": false
   },
   "outputs": [
   ],
   "source": [
    "from scipy.cluster.hierarchy import linkage"
   ]
  },
  {
   "cell_type": "code",
   "execution_count": 25,
   "metadata": {
    "collapsed": false
   },
   "outputs": [
   ],
   "source": [
    "from scipy.cluster.hierarchy import dendrogram"
   ]
  },
  {
   "cell_type": "code",
   "execution_count": 41,
   "metadata": {
    "collapsed": false
   },
   "outputs": [
   ],
   "source": [
    "from scipy.cluster.hierarchy import cut_tree"
   ]
  },
  {
   "cell_type": "code",
   "execution_count": 32,
   "metadata": {
    "collapsed": false
   },
   "outputs": [
    {
     "ename": "AttributeError",
     "evalue": "'dict' object has no attribute 'T'",
     "output_type": "error",
     "traceback": [
      "\u001b[0;31m---------------------------------------------------------------------------\u001b[0m",
      "\u001b[0;31mAttributeError\u001b[0m                            Traceback (most recent call last)",
      "\u001b[0;32m<ipython-input-32-592ea715a44a>\u001b[0m in \u001b[0;36m<module>\u001b[0;34m()\u001b[0m\n\u001b[1;32m      1\u001b[0m \u001b[0;31m#Hierarachical\u001b[0m\u001b[0;34m\u001b[0m\u001b[0;34m\u001b[0m\u001b[0m\n\u001b[1;32m      2\u001b[0m \u001b[0mmerging\u001b[0m \u001b[0;34m=\u001b[0m \u001b[0mlinkage\u001b[0m\u001b[0;34m(\u001b[0m\u001b[0mRFM_norm1\u001b[0m\u001b[0;34m,\u001b[0m \u001b[0mmethod\u001b[0m\u001b[0;34m=\u001b[0m\u001b[0;34m\"single\"\u001b[0m\u001b[0;34m,\u001b[0m \u001b[0mmetric\u001b[0m \u001b[0;34m=\u001b[0m \u001b[0;34m'euclidean'\u001b[0m\u001b[0;34m)\u001b[0m\u001b[0;34m\u001b[0m\u001b[0m\n\u001b[0;32m----> 3\u001b[0;31m \u001b[0mdendrogram\u001b[0m\u001b[0;34m(\u001b[0m\u001b[0mmerging\u001b[0m\u001b[0;34m)\u001b[0m\u001b[0;34m.\u001b[0m\u001b[0mT\u001b[0m\u001b[0;34m\u001b[0m\u001b[0m\n\u001b[0m\u001b[1;32m      4\u001b[0m \u001b[0mplt\u001b[0m\u001b[0;34m.\u001b[0m\u001b[0mshow\u001b[0m\u001b[0;34m(\u001b[0m\u001b[0;34m)\u001b[0m\u001b[0;34m\u001b[0m\u001b[0m\n",
      "\u001b[0;31mAttributeError\u001b[0m: 'dict' object has no attribute 'T'"
     ]
    },
    {
     "data": {
      "image/png": "[encoded data removed]"
     },
     "execution_count": 32,
     "metadata": {
      "image/png": {
       "height": 248,
       "width": 370
      }
     },
     "output_type": "execute_result"
    }
   ],
   "source": [
    "#Hierarachical\n",
    "merging = linkage(RFM_norm1, method=\"single\", metric = 'euclidean')\n",
    "dendrogram(merging).T\n",
    "plt.show()"
   ]
  },
  {
   "cell_type": "code",
   "execution_count": 39,
   "metadata": {
    "collapsed": false
   },
   "outputs": [
    {
     "data": {
      "image/png": "[encoded data removed]"
     },
     "execution_count": 39,
     "metadata": {
      "image/png": {
       "height": 248,
       "width": 370
      }
     },
     "output_type": "execute_result"
    }
   ],
   "source": [
    "### Hierarachical\n",
    "merging = linkage(RFM_norm1, method=\"complete\", metric = 'euclidean')\n",
    "dendrogram(merging,color_threshold = 20)\n",
    "#dendrogram(merging)\n",
    "plt.show()"
   ]
  },
  {
   "cell_type": "code",
   "execution_count": 43,
   "metadata": {
    "collapsed": false
   },
   "outputs": [
    {
     "ename": "TypeError",
     "evalue": "__init__() got an unexpected keyword argument 'n_clusters'",
     "output_type": "error",
     "traceback": [
      "\u001b[0;31m---------------------------------------------------------------------------\u001b[0m",
      "\u001b[0;31mTypeError\u001b[0m                                 Traceback (most recent call last)",
      "\u001b[0;32m<ipython-input-43-14a1f2ab7d5a>\u001b[0m in \u001b[0;36m<module>\u001b[0;34m()\u001b[0m\n\u001b[0;32m----> 1\u001b[0;31m \u001b[0mRFM_km1\u001b[0m \u001b[0;34m=\u001b[0m \u001b[0mpd\u001b[0m\u001b[0;34m.\u001b[0m\u001b[0mconcat\u001b[0m\u001b[0;34m(\u001b[0m\u001b[0;34m[\u001b[0m\u001b[0mcricket\u001b[0m\u001b[0;34m.\u001b[0m\u001b[0mPlayer\u001b[0m\u001b[0;34m,\u001b[0m \u001b[0mRFM_norm1\u001b[0m\u001b[0;34m,\u001b[0m \u001b[0mpd\u001b[0m\u001b[0;34m.\u001b[0m\u001b[0mSeries\u001b[0m\u001b[0;34m(\u001b[0m\u001b[0mcut_tree\u001b[0m\u001b[0;34m(\u001b[0m\u001b[0mmerging\u001b[0m\u001b[0;34m)\u001b[0m\u001b[0;34m,\u001b[0m \u001b[0mn_clusters\u001b[0m\u001b[0;34m=\u001b[0m\u001b[0;36m4\u001b[0m\u001b[0;34m)\u001b[0m\u001b[0;34m.\u001b[0m\u001b[0mreshape\u001b[0m\u001b[0;34m(\u001b[0m\u001b[0;34m-\u001b[0m\u001b[0;36m1\u001b[0m\u001b[0;34m,\u001b[0m\u001b[0;34m)\u001b[0m\u001b[0;34m]\u001b[0m\u001b[0;34m,\u001b[0m \u001b[0maxis\u001b[0m\u001b[0;34m=\u001b[0m\u001b[0;36m1\u001b[0m\u001b[0;34m)\u001b[0m\u001b[0;34m\u001b[0m\u001b[0m\n\u001b[0m",
      "\u001b[0;31mTypeError\u001b[0m: __init__() got an unexpected keyword argument 'n_clusters'"
     ]
    }
   ],
   "source": [
    "RFM_km1 = pd.concat([cricket.Player, RFM_norm1, pd.Series(cut_tree(merging), n_clusters=4).reshape(-1,)], axis=1)"
   ]
  },
  {
   "cell_type": "code",
   "execution_count": 0,
   "metadata": {
    "collapsed": false
   },
   "outputs": [
   ],
   "source": [
   ]
  }
 ],
 "metadata": {
  "kernelspec": {
   "display_name": "Python 3 (Ubuntu Linux)",
   "language": "python",
   "name": "python3"
  },
  "language_info": {
   "codemirror_mode": {
    "name": "ipython",
    "version": 3
   },
   "file_extension": ".py",
   "mimetype": "text/x-python",
   "name": "python",
   "nbconvert_exporter": "python",
   "pygments_lexer": "ipython3",
   "version": "3.5.2"
  }
 },
 "nbformat": 4,
 "nbformat_minor": 0
}